{
 "cells": [
  {
   "cell_type": "code",
   "execution_count": 40,
   "metadata": {},
   "outputs": [],
   "source": [
    "import numpy as np\n",
    "import pandas as pd\n",
    "import xgboost\n",
    "# import numba\n",
    "# import shap\n",
    "import matplotlib.pyplot as plt\n",
    "# import lightgbm as lgb\n",
    "import re\n",
    "\n",
    "from sklearn.model_selection import train_test_split\n",
    "from sklearn.preprocessing import PolynomialFeatures\n",
    "from sklearn.linear_model import LinearRegression\n",
    "from sklearn.ensemble import RandomForestRegressor\n",
    "from sklearn.metrics import mean_squared_error, r2_score\n",
    "from sklearn.metrics import classification_report\n",
    "from sklearn.linear_model import ElasticNetCV, Lasso, Ridge\n",
    "from sklearn.model_selection import GridSearchCV\n",
    "from sklearn.svm import SVR\n",
    "from sklearn.linear_model import QuantileRegressor"
   ]
  },
  {
   "cell_type": "code",
   "execution_count": 76,
   "metadata": {},
   "outputs": [
    {
     "name": "stdout",
     "output_type": "stream",
     "text": [
      "[]\n",
      "(1015,)\n",
      "(1015, 140)\n"
     ]
    }
   ],
   "source": [
    "pd.set_option('display.max_columns', None)\n",
    "df = pd.read_csv(\"model_v2.csv\")\n",
    "computer = [col for col in df.columns if \"computer\" in col.lower()]\n",
    "fips = [col for col in df.columns if \"fips\" in col.lower()]\n",
    "\n",
    "df = df.drop(computer, axis=1)\n",
    "df = df.drop(fips, axis=1)\n",
    "df.columns = [c.replace(\"[\", \"\").replace(\"]\", \"\").replace(\"<\",\"\") for c in df.columns]\n",
    "df.columns = [re.sub(r'[^a-zA-Z0-9]', '', s) for s in df.columns]\n",
    "print([col for col in df.columns if \"computer\" in col.lower()])\n",
    "\n",
    "ok = [\"LanguageSpokenatHomeVietnamese2020Estimated\", \n",
    " \"HealthInsuranceCoveragebyAge65to74yearsNohealthinsurancecoverage2020Estimated\", \n",
    " \"LanguageSpokenatHomeArabic2020Estimated\"]\n",
    "bad = [\"StateWV\", \"StateUT\", \"ModerateDays\", \"StateKS\", \"LanguageSpokenatHomeChineseinclMandarinCantonese2020Estimated\",\n",
    " \"MedianAQI\", \"90thPercentileAQI\", \"EmploymentStatusInlaborforceCivilianlaborforce2020Estimated\", \"StateOH\",\n",
    " \"StateVT\", \"StateWI\", \"StateSC\", \"StateRI\", \"StateNY\", \"StateWY\", \"StatePR\", \"GoodDays\", \"StateMI\", \"StateNV\", \"StateHI\",\n",
    " \"StateAL\", \"StateAZ\", \"StateCO\", \"StateCT\", \"StateDC\", \"StateDE\", \"StateFL\", \"StateGA\", \"StateID\", \"StateNM\", \"StateMA\",\n",
    " \"StateMD\", \"StateME\", \"StateMN\", \"StateMT\", \"StateNE\", \"StateNH\", \"StateNJ\", \"UnhealthyforSensitiveGroupsDays\"]\n",
    "# df = df.drop(bad, axis=1)\n",
    "# print(len(set(df.columns)))\n",
    "# print(len(df.columns))\n",
    "\n",
    "# df = df.set_index(\"Name\")\n",
    "deaths = [col for col in df.columns if \"covid\" in col.lower()]\n",
    "tot_pop = [col for col in df.columns if \"total\" in col.lower()][0]\n",
    "y = df[deaths[0]]\n",
    "y_cases = df[deaths[1]]\n",
    "# y = y_cases\n",
    "# Normalized y\n",
    "# y_lab = y[labels[0]]\n",
    "# df = df[df[labels[11]].isna() == False]\n",
    "df = df[y.isna() == False]\n",
    "y_lab = y[y.isna() == False]\n",
    "x = df.drop(deaths, axis=1)\n",
    "# x = x.drop(tot_pop, axis=1)\n",
    "bad_col = [c for c in x.columns if x[c].isna().sum() > 10]\n",
    "x = x.drop(bad_col, axis=1)\n",
    "x = x.iloc[:,:-11]\n",
    "print(y_lab.shape)\n",
    "print(x.shape)"
   ]
  },
  {
   "cell_type": "code",
   "execution_count": 77,
   "metadata": {},
   "outputs": [],
   "source": [
    "x=(x-x.mean())/x.std()"
   ]
  },
  {
   "cell_type": "code",
   "execution_count": 78,
   "metadata": {},
   "outputs": [
    {
     "name": "stdout",
     "output_type": "stream",
     "text": [
      "<class 'pandas.core.frame.DataFrame'>\n",
      "Int64Index: 1015 entries, 0 to 1014\n",
      "Data columns (total 140 columns):\n",
      " #    Column                                                                Dtype  \n",
      "---   ------                                                                -----  \n",
      " 0    TotalPopulation2020Estimated                                          float64\n",
      " 1    Age5to9years2020Estimated                                             float64\n",
      " 2    Age10to14years2020Estimated                                           float64\n",
      " 3    Age15to17years2020Estimated                                           float64\n",
      " 4    Age18and19years2020Estimated                                          float64\n",
      " 5    Age20to24years2020Estimated                                           float64\n",
      " 6    Age25to34years2020Estimated                                           float64\n",
      " 7    Age35to44years2020Estimated                                           float64\n",
      " 8    Age45to54years2020Estimated                                           float64\n",
      " 9    Age55to64years2020Estimated                                           float64\n",
      " 10   Age65to74years2020Estimated                                           float64\n",
      " 11   Age75to84years2020Estimated                                           float64\n",
      " 12   Age85yearsandover2020Estimated                                        float64\n",
      " 13   SexFemale2020Estimated                                                float64\n",
      " 14   RaceBlackorAfricanAmericanalone2020Estimated                          float64\n",
      " 15   RaceWhitealone2020Estimated                                           float64\n",
      " 16   RaceAmericanIndianandAlaskaNativealone2020Estimated                   float64\n",
      " 17   RaceAsianalone2020Estimated                                           float64\n",
      " 18   HouseholdIncomeLessthan100002020Estimated                             float64\n",
      " 19   HouseholdIncome10000to199992020Estimated                              float64\n",
      " 20   HouseholdIncome20000to299992020Estimated                              float64\n",
      " 21   HouseholdIncome30000to399992020Estimated                              float64\n",
      " 22   HouseholdIncome40000to499992020Estimated                              float64\n",
      " 23   HouseholdIncome50000to599992020Estimated                              float64\n",
      " 24   HouseholdIncome60000to749992020Estimated                              float64\n",
      " 25   HouseholdIncome75000to999992020Estimated                              float64\n",
      " 26   HouseholdIncome100000to1249992020Estimated                            float64\n",
      " 27   HouseholdIncome125000to1499992020Estimated                            float64\n",
      " 28   HouseholdIncome150000to1999992020Estimated                            float64\n",
      " 29   SchoolEnrollmentEnrolledinschool2020Estimated                         float64\n",
      " 30   SchoolEnrollmentEnrolledinnurseryschoolpreschool2020Estimated         float64\n",
      " 31   SchoolEnrollmentEnrolledinkindergarten2020Estimated                   float64\n",
      " 32   SchoolEnrollmentEnrolledingrade1tograde42020Estimated                 float64\n",
      " 33   SchoolEnrollmentEnrolledingrade5tograde82020Estimated                 float64\n",
      " 34   SchoolEnrollmentEnrolledingrade9tograde122020Estimated                float64\n",
      " 35   SchoolEnrollmentEnrolledincollegeundergraduateyears2020Estimated      float64\n",
      " 36   SchoolEnrollmentGraduateorprofessionalschool2020Estimated             float64\n",
      " 37   SchoolEnrollmentNotenrolledinschool2020Estimated                      float64\n",
      " 38   EmploymentStatusInlaborforce2020Estimated                             float64\n",
      " 39   EmploymentStatusInlaborforceCivilianlaborforce2020Estimated           float64\n",
      " 40   EmploymentStatusIncivilianlaborforceEmployed2020Estimated             float64\n",
      " 41   EmploymentStatusIncivilianlaborforceUnemployed2020Estimated           float64\n",
      " 42   EmploymentStatusInlaborforceArmedForces2020Estimated                  float64\n",
      " 43   EmploymentStatusNotinlaborforce2020Estimated                          float64\n",
      " 44   PovertyStatusbyAgeInPovertyUnder5years2020Estimated                   float64\n",
      " 45   PovertyStatusbyAgeInPoverty6to11years2020Estimated                    float64\n",
      " 46   PovertyStatusbyAgeInPoverty5years2020Estimated                        float64\n",
      " 47   PovertyStatusbyAgeInPoverty12to14years2020Estimated                   float64\n",
      " 48   PovertyStatusbyAgeInPoverty15years2020Estimated                       float64\n",
      " 49   PovertyStatusbyAgeInPoverty16and17years2020Estimated                  float64\n",
      " 50   PovertyStatusbyAgeInPoverty18to24years2020Estimated                   float64\n",
      " 51   PovertyStatusbyAgeInPoverty25to34years2020Estimated                   float64\n",
      " 52   PovertyStatusbyAgeInPoverty35to44years2020Estimated                   float64\n",
      " 53   PovertyStatusbyAgeInPoverty45to54years2020Estimated                   float64\n",
      " 54   PovertyStatusbyAgeInPoverty55to64years2020Estimated                   float64\n",
      " 55   PovertyStatusbyAgeInPoverty65to74years2020Estimated                   float64\n",
      " 56   PovertyStatusbyAgeInPoverty75yearsandover2020Estimated                float64\n",
      " 57   LanguageSpokenatHomeSpeakonlyEnglish2020Estimated                     float64\n",
      " 58   LanguageSpokenatHomeSpanish2020Estimated                              float64\n",
      " 59   LanguageSpokenatHomeFrenchHaitianorCajun2020Estimated                 float64\n",
      " 60   LanguageSpokenatHomeGermanorotherWestGermaniclanguages2020Estimated   float64\n",
      " 61   LanguageSpokenatHomeRussianPolishorotherSlaviclanguages2020Estimated  float64\n",
      " 62   LanguageSpokenatHomeOtherIndoEuropeanlanguages2020Estimated           float64\n",
      " 63   LanguageSpokenatHomeKorean2020Estimated                               float64\n",
      " 64   LanguageSpokenatHomeChineseinclMandarinCantonese2020Estimated         float64\n",
      " 65   LanguageSpokenatHomeVietnamese2020Estimated                           float64\n",
      " 66   LanguageSpokenatHomeTagaloginclFilipino2020Estimated                  float64\n",
      " 67   LanguageSpokenatHomeOtherAsianandPacificIslandlanguages2020Estimated  float64\n",
      " 68   LanguageSpokenatHomeArabic2020Estimated                               float64\n",
      " 69   WithHealthInsuraceUnder6years                                         float64\n",
      " 70   WithHealthInsurace6to18years                                          float64\n",
      " 71   WithHealthInsurace19to25years                                         float64\n",
      " 72   WithHealthInsurace26to34years                                         float64\n",
      " 73   WithHealthInsurace35to44years                                         float64\n",
      " 74   WithHealthInsurace45to54years                                         float64\n",
      " 75   WithHealthInsurace55to64years                                         float64\n",
      " 76   WithHealthInsurace65to74years                                         float64\n",
      " 77   WithHealthInsurace75yearsandover                                      float64\n",
      " 78   Householdvehicleavailability                                          float64\n",
      " 79   StateAL                                                               float64\n",
      " 80   StateAR                                                               float64\n",
      " 81   StateAZ                                                               float64\n",
      " 82   StateCA                                                               float64\n",
      " 83   StateCO                                                               float64\n",
      " 84   StateCT                                                               float64\n",
      " 85   StateDC                                                               float64\n",
      " 86   StateDE                                                               float64\n",
      " 87   StateFL                                                               float64\n",
      " 88   StateGA                                                               float64\n",
      " 89   StateHI                                                               float64\n",
      " 90   StateIA                                                               float64\n",
      " 91   StateID                                                               float64\n",
      " 92   StateIL                                                               float64\n",
      " 93   StateIN                                                               float64\n",
      " 94   StateKS                                                               float64\n",
      " 95   StateKY                                                               float64\n",
      " 96   StateLA                                                               float64\n",
      " 97   StateMA                                                               float64\n",
      " 98   StateMD                                                               float64\n",
      " 99   StateME                                                               float64\n",
      " 100  StateMI                                                               float64\n",
      " 101  StateMN                                                               float64\n",
      " 102  StateMO                                                               float64\n",
      " 103  StateMS                                                               float64\n",
      " 104  StateMT                                                               float64\n",
      " 105  StateNC                                                               float64\n",
      " 106  StateND                                                               float64\n",
      " 107  StateNE                                                               float64\n",
      " 108  StateNH                                                               float64\n",
      " 109  StateNJ                                                               float64\n",
      " 110  StateNM                                                               float64\n",
      " 111  StateNV                                                               float64\n",
      " 112  StateNY                                                               float64\n",
      " 113  StateOH                                                               float64\n",
      " 114  StateOK                                                               float64\n",
      " 115  StateOR                                                               float64\n",
      " 116  StatePA                                                               float64\n",
      " 117  StatePR                                                               float64\n",
      " 118  StateRI                                                               float64\n",
      " 119  StateSC                                                               float64\n",
      " 120  StateSD                                                               float64\n",
      " 121  StateTN                                                               float64\n",
      " 122  StateTX                                                               float64\n",
      " 123  StateUT                                                               float64\n",
      " 124  StateVA                                                               float64\n",
      " 125  StateVT                                                               float64\n",
      " 126  StateWA                                                               float64\n",
      " 127  StateWI                                                               float64\n",
      " 128  StateWV                                                               float64\n",
      " 129  StateWY                                                               float64\n",
      " 130  EducationalAttainmentBachelorsdegreeorhigher2021Estimated             float64\n",
      " 131  LogPopulationDensitypersqmi                                           float64\n",
      " 132  HouseholdSize1personhousehold2021Estimated                            float64\n",
      " 133  HouseholdSize2personhousehold2021Estimated                            float64\n",
      " 134  HouseholdSize3personhousehold2021Estimated                            float64\n",
      " 135  HouseholdSize4personhousehold2021Estimated                            float64\n",
      " 136  HouseholdSize5personhousehold2021Estimated                            float64\n",
      " 137  HouseholdSize6personhousehold2021Estimated                            float64\n",
      " 138  GiniIndexOfIncomeInequalityB19083GiniIndex2019                        float64\n",
      " 139  HispanicorLatinoHispanicorLatino2021Estimated                         float64\n",
      "dtypes: float64(140)\n",
      "memory usage: 1.1 MB\n"
     ]
    }
   ],
   "source": [
    "x.info(verbose=True)"
   ]
  },
  {
   "cell_type": "code",
   "execution_count": 79,
   "metadata": {},
   "outputs": [],
   "source": [
    "# X_T, X_test, y_T, y_test = train_test_split(x, y_lab, test_size=0.15, random_state=42)\n",
    "X_train, X_test, y_train, y_test = train_test_split(x, y_lab, test_size=0.20, random_state=4)"
   ]
  },
  {
   "cell_type": "code",
   "execution_count": 80,
   "metadata": {},
   "outputs": [
    {
     "data": {
      "text/plain": [
       "(array([264., 313., 152.,  58.,  12.,  11.,   0.,   1.,   0.,   1.]),\n",
       " array([0.        , 0.00059243, 0.00118486, 0.00177729, 0.00236973,\n",
       "        0.00296216, 0.00355459, 0.00414702, 0.00473945, 0.00533188,\n",
       "        0.00592431]),\n",
       " <a list of 10 Patch objects>)"
      ]
     },
     "execution_count": 80,
     "metadata": {},
     "output_type": "execute_result"
    },
    {
     "data": {
      "image/png": "[encoded data removed]",
      "text/plain": [
       "<Figure size 432x288 with 1 Axes>"
      ]
     },
     "metadata": {
      "needs_background": "light"
     },
     "output_type": "display_data"
    }
   ],
   "source": [
    "plt.hist(y_train)"
   ]
  },
  {
   "cell_type": "code",
   "execution_count": 81,
   "metadata": {},
   "outputs": [
    {
     "name": "stdout",
     "output_type": "stream",
     "text": [
      "Root Mean squared error: 0.000567125\n",
      "Root Mean squared error train: 0.000401077\n",
      "Coefficient of determination: 0.28\n",
      "Coefficient of determination train: 0.62\n"
     ]
    }
   ],
   "source": [
    "lm = LinearRegression().fit(X_train, y_train)\n",
    "y_pred = lm.predict(X_test)\n",
    "y_pred_train = lm.predict(X_train)\n",
    "# The mean squared error\n",
    "print(\"Root Mean squared error: %.9f\" % mean_squared_error(y_test, y_pred, squared=False))\n",
    "print(\"Root Mean squared error train: %.9f\" % mean_squared_error(y_train, y_pred_train, squared=False))\n",
    "# The coefficient of determination: 1 is perfect prediction\n",
    "print(\"Coefficient of determination: %.2f\" % r2_score(y_test, y_pred))\n",
    "print(\"Coefficient of determination train: %.2f\" % r2_score(y_train, y_pred_train))"
   ]
  },
  {
   "cell_type": "code",
   "execution_count": 82,
   "metadata": {},
   "outputs": [],
   "source": [
    "# parameters = {\n",
    "#     'alphas': [[0.1], [0.2], [1.0], [2.0]],\n",
    "#     'max_iter': [10000, 100000],\n",
    "#     'l1_ratio': [0.25, 0.3, 0.35, 0.4, 0.45]\n",
    "# }\n",
    "\n",
    "# # Initialize the linear regression model with L1 and L2 regularization (Elastic Net)\n",
    "# enet_model = ElasticNetCV()\n",
    "\n",
    "# # Use GridSearchCV to find the best hyperparameters for the linear regression model\n",
    "# clf = GridSearchCV(enet_model, parameters, cv=4, scoring='neg_root_mean_squared_error', n_jobs=8)\n",
    "\n",
    "# # Fit the model to the training data\n",
    "# clf.fit(X_train, y_train)\n",
    "\n",
    "# # Print the best hyperparameters found by GridSearchCV\n",
    "# print(clf.best_params_)\n",
    "\n",
    "# y_pred = clf.predict(X_test)\n",
    "# y_pred_train = clf.predict(X_train)\n",
    "\n",
    "# # Calculate the mean squared error\n",
    "# # mse = mean_squared_error(y_test, y_pred)\n",
    "# # mse_train = mean_squared_error(y_train, y_pred_train)\n",
    "\n",
    "# # # Calculate the R^2 statistic\n",
    "# # r2 = r2_score(y_test, y_pred)\n",
    "# # r2_train = r2_score(y_train, y_pred_train)\n",
    "\n",
    "# # Print the mean squared error and the R^2 statistic\n",
    "# print(\"Root Mean squared error: %.9f\" % mean_squared_error(y_test, y_pred, squared=False))\n",
    "# print(\"ROot Mean squared error train: %.9f\" % mean_squared_error(y_train, y_pred_train, squared=False))\n",
    "\n",
    "# print(\"Coefficient of determination: %.4f\" % r2_score(y_test, y_pred))\n",
    "# print(\"Coefficient of determination train: %.4f\" % r2_score(y_train, y_pred_train))"
   ]
  },
  {
   "cell_type": "code",
   "execution_count": 83,
   "metadata": {},
   "outputs": [
    {
     "name": "stdout",
     "output_type": "stream",
     "text": [
      "{'alpha': 200}\n",
      "Root Mean squared error: 0.000537737\n",
      "ROot Mean squared error train: 0.000425615\n",
      "Coefficient of determination: 0.3565\n",
      "Coefficient of determination train: 0.5698\n"
     ]
    }
   ],
   "source": [
    "parameters = {\n",
    "    'alpha': [0.1, 0.2, 0.5, 2.0, 3.0, 5.0, 10.0, 20.0, 50, 100, 200, 300, 500]\n",
    "}\n",
    "\n",
    "# Initialize the linear regression model with L1 and L2 regularization (Elastic Net)\n",
    "ridge = Ridge()\n",
    "\n",
    "# Use GridSearchCV to find the best hyperparameters for the linear regression model\n",
    "clf = GridSearchCV(ridge, parameters, cv=4, scoring='neg_root_mean_squared_error', n_jobs=8)\n",
    "\n",
    "# Fit the model to the training data\n",
    "clf.fit(X_train, y_train)\n",
    "\n",
    "# Print the best hyperparameters found by GridSearchCV\n",
    "print(clf.best_params_)\n",
    "\n",
    "y_pred = clf.predict(X_test)\n",
    "y_pred_train = clf.predict(X_train)\n",
    "\n",
    "# Calculate the mean squared error\n",
    "# mse = mean_squared_error(y_test, y_pred)\n",
    "# mse_train = mean_squared_error(y_train, y_pred_train)\n",
    "\n",
    "# # Calculate the R^2 statistic\n",
    "# r2 = r2_score(y_test, y_pred)\n",
    "# r2_train = r2_score(y_train, y_pred_train)\n",
    "\n",
    "# Print the mean squared error and the R^2 statistic\n",
    "print(\"Root Mean squared error: %.9f\" % mean_squared_error(y_test, y_pred, squared=False))\n",
    "print(\"ROot Mean squared error train: %.9f\" % mean_squared_error(y_train, y_pred_train, squared=False))\n",
    "\n",
    "print(\"Coefficient of determination: %.4f\" % r2_score(y_test, y_pred))\n",
    "print(\"Coefficient of determination train: %.4f\" % r2_score(y_train, y_pred_train))"
   ]
  },
  {
   "cell_type": "code",
   "execution_count": 62,
   "metadata": {},
   "outputs": [],
   "source": [
    "LR_ridge_coeffs = pd.DataFrame(data={'Variable':X_train.columns,'Coeff*E5':clf.best_estimator_.coef_*100000})\n",
    "LR_ridge_coeffs.to_csv('LR_ridge_coeffs.csv',index=False)"
   ]
  },
  {
   "cell_type": "code",
   "execution_count": 50,
   "metadata": {},
   "outputs": [
    {
     "name": "stdout",
     "output_type": "stream",
     "text": [
      "Root Mean squared error: 0.000574540\n",
      "Root Mean squared error train: 0.000359484\n",
      "Coefficient of determination: 0.27\n",
      "Coefficient of determination train: 0.69\n"
     ]
    }
   ],
   "source": [
    "def rmse(x, y):\n",
    "    return mean_squared_error(x, y, squared=False)\n",
    "xgb = xgboost.XGBRegressor(colsample_bylevel=0.5, n_estimators=500, max_depth=3, learning_rate=0.1, tree_method=\"hist\", eval_metric=rmse)\n",
    "xgb.fit(X_train, y_train)\n",
    "y_pred = xgb.predict(X_test)\n",
    "y_pred_train = xgb.predict(X_train)\n",
    "# The mean squared error\n",
    "print(\"Root Mean squared error: %.9f\" % mean_squared_error(y_test, y_pred, squared=False))\n",
    "print(\"Root Mean squared error train: %.9f\" % mean_squared_error(y_train, y_pred_train, squared=False))\n",
    "# The coefficient of determination: 1 is perfect prediction\n",
    "print(\"Coefficient of determination: %.2f\" % r2_score(y_test, y_pred))\n",
    "print(\"Coefficient of determination train: %.2f\" % r2_score(y_train, y_pred_train))"
   ]
  },
  {
   "cell_type": "code",
   "execution_count": 51,
   "metadata": {},
   "outputs": [
    {
     "name": "stdout",
     "output_type": "stream",
     "text": [
      "Root Mean squared error: 0.002077899\n",
      "Root Mean squared error train: 0.002110470\n",
      "Coefficient of determination: -8.61\n",
      "Coefficient of determination train: -9.58\n"
     ]
    }
   ],
   "source": [
    "svm = SVR(C=0.4, epsilon=0.3, kernel=\"sigmoid\")\n",
    "svm.fit(X_train, y_train)\n",
    "y_pred = svm.predict(X_test)\n",
    "y_pred_train = svm.predict(X_train)\n",
    "# The mean squared error\n",
    "print(\"Root Mean squared error: %.9f\" % mean_squared_error(y_test, y_pred, squared=False))\n",
    "print(\"Root Mean squared error train: %.9f\" % mean_squared_error(y_train, y_pred_train, squared=False))\n",
    "# The coefficient of determination: 1 is perfect prediction\n",
    "print(\"Coefficient of determination: %.2f\" % r2_score(y_test, y_pred))\n",
    "print(\"Coefficient of determination train: %.2f\" % r2_score(y_train, y_pred_train))"
   ]
  },
  {
   "cell_type": "code",
   "execution_count": null,
   "metadata": {
    "scrolled": true
   },
   "outputs": [],
   "source": [
    "# Create a LightGBM dataset for training\n",
    "train_data = lgb.Dataset(X_train, label=y_train)\n",
    "\n",
    "# Create a LightGBM dataset for validation\n",
    "val_data = lgb.Dataset(X_test, label=y_test)\n",
    "\n",
    "# Define the parameters for LightGBM\n",
    "parameters = {\n",
    "    'objective': 'regression',\n",
    "    'metric': 'rmse',\n",
    "    'num_leaves': 30,\n",
    "    'learning_rate': 0.05,\n",
    "    'feature_fraction': 0.8,\n",
    "    'bagging_fraction': 0.9,\n",
    "    'bagging_freq': 3,\n",
    "    'verbose': 1\n",
    "}\n",
    "\n",
    "# Train the model\n",
    "model = lgb.train(parameters, train_data, valid_sets=val_data, num_boost_round=500, early_stopping_rounds=10)\n",
    "\n",
    "# Make predictions on the test set\n",
    "y_pred = model.predict(X_test)\n",
    "y_pred_train = model.predict(X_train)\n",
    "# The mean squared error\n",
    "print(\"Root Mean squared error: %.9f\" % mean_squared_error(y_test, y_pred, squared=False))\n",
    "print(\"Root Mean squared error train: %.9f\" % mean_squared_error(y_train, y_pred_train, squared=False))\n",
    "# The coefficient of determination: 1 is perfect prediction\n",
    "print(\"Coefficient of determination: %.2f\" % r2_score(y_test, y_pred))\n",
    "print(\"Coefficient of determination train: %.2f\" % r2_score(y_train, y_pred_train))"
   ]
  },
  {
   "cell_type": "code",
   "execution_count": null,
   "metadata": {},
   "outputs": [
    {
     "name": "stderr",
     "output_type": "stream",
     "text": [
      "ntree_limit is deprecated, use `iteration_range` or model slicing instead.\n"
     ]
    },
    {
     "data": {
      "image/png": "[encoded data removed]",
      "text/plain": [
       "<Figure size 576x280.8 with 2 Axes>"
      ]
     },
     "metadata": {
      "needs_background": "light"
     },
     "output_type": "display_data"
    }
   ],
   "source": [
    "explainer = shap.Explainer(xgb)\n",
    "shap_values = explainer(X_train)\n",
    "shap.plots.beeswarm(shap_values*100, max_display=6)"
   ]
  },
  {
   "cell_type": "code",
   "execution_count": null,
   "metadata": {},
   "outputs": [],
   "source": [
    "# Create a LightGBM dataset for training\n",
    "train_data = lgb.Dataset(X_train, label=y_train)\n",
    "\n",
    "# Create a LightGBM dataset for validation\n",
    "val_data = lgb.Dataset(X_test, label=y_test)\n",
    "\n",
    "# Define the parameters for LightGBM\n",
    "parameters = {\n",
    "    'num_leaves': [10, 30, 50],\n",
    "    'learning_rate': [0.01, 0.05],\n",
    "    'feature_fraction': [0.8, 0.9],\n",
    "    'bagging_freq': [5, 7]\n",
    "}\n",
    "model = lgb.LGBMRegressor(objective=\"regression\", metric=\"rmse\")\n",
    "\n",
    "clf = GridSearchCV(model, parameters, scoring='neg_root_mean_squared_error', cv=3)\n",
    "\n",
    "clf.fit(X_train, y_train)\n",
    "\n",
    "# Print the best hyperparameters found by GridSearchCV\n",
    "print(clf.best_params_)\n",
    "\n",
    "y_pred = clf.predict(X_test)\n",
    "\n",
    "y_pred_train = clf.predict(X_train)\n",
    "# Calculate the mean squared error\n",
    "\n",
    "print(\"Root mean squared error: %.9f\" % mean_squared_error(y_test, y_pred, squared=False))\n",
    "print(\"Root mean squared error train: %.9f\" % mean_squared_error(y_train, y_pred_train, squared=False))\n",
    "\n",
    "print(\"Coefficient of determination: %.4f\" % r2_score(y_test, y_pred))\n",
    "print(\"Coefficient of determination train: %.4f\" % r2_score(y_train, y_pred_train))"
   ]
  },
  {
   "cell_type": "code",
   "execution_count": null,
   "metadata": {},
   "outputs": [],
   "source": [
    "xgb = xgboost.XGBRegressor(n_estimators=100, max_depth=10, tree_method=\"hist\")\n",
    "\n",
    "# Set up the parameters for the XGBoost model\n",
    "parameters = {\n",
    "    'learning_rate': [0.1, 0.01],\n",
    "    'max_depth': [1, 3, 5],\n",
    "    'n_estimators': [500, 1000],\n",
    "    'min_child_weight': [1],\n",
    "    'colsample_bylevel': [0.5, 1]\n",
    "}\n",
    "\n",
    "clf = GridSearchCV(xgb, parameters, scoring='neg_root_mean_squared_error', cv=3)\n",
    "\n",
    "clf.fit(X_train, y_train)\n",
    "print(clf.best_estimator_)\n",
    "# Print the best hyperparameters found by GridSearchCV\n",
    "print(clf.best_params_)\n",
    "\n",
    "y_pred = clf.predict(X_test)\n",
    "\n",
    "y_pred_train = clf.predict(X_train)\n",
    "# Calculate the mean squared error\n",
    "\n",
    "print(\"Root mean squared error: %.9f\" % mean_squared_error(y_test, y_pred, squared=False))\n",
    "print(\"Root mean squared error train: %.9f\" % mean_squared_error(y_train, y_pred_train, squared=False))\n",
    "\n",
    "print(\"Coefficient of determination: %.4f\" % r2_score(y_test, y_pred))\n",
    "print(\"Coefficient of determination train: %.4f\" % r2_score(y_train, y_pred_train))"
   ]
  },
  {
   "cell_type": "code",
   "execution_count": 11,
   "metadata": {},
   "outputs": [
    {
     "name": "stdout",
     "output_type": "stream",
     "text": [
      "RandomForestRegressor(max_depth=30)\n",
      "{'max_depth': 30, 'n_estimators': 100}\n",
      "Root mean squared error: 0.000757287\n",
      "Root mean squared error train: 0.000275513\n",
      "Coefficient of determination: 0.2362\n",
      "Coefficient of determination train: 0.8932\n"
     ]
    }
   ],
   "source": [
    "rdf = RandomForestRegressor()\n",
    "\n",
    "# Set up the parameters for the XGBoost model\n",
    "parameters = {\n",
    "    'max_depth': [5,10,15,20,25,30,35,40,50,100],\n",
    "    'n_estimators': [100]\n",
    "}\n",
    "\n",
    "forest = GridSearchCV(rdf, parameters, scoring='neg_root_mean_squared_error', cv=3)\n",
    "\n",
    "forest.fit(X_train, y_train)\n",
    "print(forest.best_estimator_)\n",
    "\n",
    "# Print the best hyperparameters found by GridSearchCV\n",
    "print(forest.best_params_)\n",
    "\n",
    "y_pred = forest.predict(X_test)\n",
    "y_pred_train = forest.predict(X_train)\n",
    "# Calculate the mean squared error\n",
    "\n",
    "print(\"Root mean squared error: %.9f\" % mean_squared_error(y_test, y_pred, squared=False))\n",
    "print(\"Root mean squared error train: %.9f\" % mean_squared_error(y_train, y_pred_train, squared=False))\n",
    "\n",
    "print(\"Coefficient of determination: %.4f\" % r2_score(y_test, y_pred))\n",
    "print(\"Coefficient of determination train: %.4f\" % r2_score(y_train, y_pred_train))"
   ]
  },
  {
   "cell_type": "code",
   "execution_count": 37,
   "metadata": {},
   "outputs": [
    {
     "ename": "KeyboardInterrupt",
     "evalue": "",
     "output_type": "error",
     "traceback": [
      "\u001b[1;31m---------------------------------------------------------------------------\u001b[0m",
      "\u001b[1;31mKeyboardInterrupt\u001b[0m                         Traceback (most recent call last)",
      "\u001b[1;32m<ipython-input-37-0879a070204e>\u001b[0m in \u001b[0;36m<module>\u001b[1;34m\u001b[0m\n\u001b[0;32m      6\u001b[0m \u001b[1;31m# Define the model\u001b[0m\u001b[1;33m\u001b[0m\u001b[1;33m\u001b[0m\u001b[1;33m\u001b[0m\u001b[0m\n\u001b[0;32m      7\u001b[0m \u001b[0mmodel\u001b[0m \u001b[1;33m=\u001b[0m \u001b[0mQuantileRegressor\u001b[0m\u001b[1;33m(\u001b[0m\u001b[1;33m)\u001b[0m\u001b[1;33m\u001b[0m\u001b[1;33m\u001b[0m\u001b[0m\n\u001b[1;32m----> 8\u001b[1;33m \u001b[0mmodel\u001b[0m\u001b[1;33m.\u001b[0m\u001b[0mfit\u001b[0m\u001b[1;33m(\u001b[0m\u001b[0mX_train\u001b[0m\u001b[1;33m,\u001b[0m \u001b[0my_train\u001b[0m\u001b[1;33m)\u001b[0m\u001b[1;33m\u001b[0m\u001b[1;33m\u001b[0m\u001b[0m\n\u001b[0m\u001b[0;32m      9\u001b[0m \u001b[1;33m\u001b[0m\u001b[0m\n\u001b[0;32m     10\u001b[0m \u001b[1;31m# y_pred\u001b[0m\u001b[1;33m\u001b[0m\u001b[1;33m\u001b[0m\u001b[1;33m\u001b[0m\u001b[0m\n",
      "\u001b[1;32mD:\\Anaconda3\\lib\\site-packages\\sklearn\\linear_model\\_quantile.py\u001b[0m in \u001b[0;36mfit\u001b[1;34m(self, X, y, sample_weight)\u001b[0m\n\u001b[0;32m    258\u001b[0m             \u001b[0mb_eq\u001b[0m\u001b[1;33m=\u001b[0m\u001b[0mb_eq\u001b[0m\u001b[1;33m,\u001b[0m\u001b[1;33m\u001b[0m\u001b[1;33m\u001b[0m\u001b[0m\n\u001b[0;32m    259\u001b[0m             \u001b[0mmethod\u001b[0m\u001b[1;33m=\u001b[0m\u001b[0mself\u001b[0m\u001b[1;33m.\u001b[0m\u001b[0msolver\u001b[0m\u001b[1;33m,\u001b[0m\u001b[1;33m\u001b[0m\u001b[1;33m\u001b[0m\u001b[0m\n\u001b[1;32m--> 260\u001b[1;33m             \u001b[0moptions\u001b[0m\u001b[1;33m=\u001b[0m\u001b[0msolver_options\u001b[0m\u001b[1;33m,\u001b[0m\u001b[1;33m\u001b[0m\u001b[1;33m\u001b[0m\u001b[0m\n\u001b[0m\u001b[0;32m    261\u001b[0m         )\n\u001b[0;32m    262\u001b[0m         \u001b[0msolution\u001b[0m \u001b[1;33m=\u001b[0m \u001b[0mresult\u001b[0m\u001b[1;33m.\u001b[0m\u001b[0mx\u001b[0m\u001b[1;33m\u001b[0m\u001b[1;33m\u001b[0m\u001b[0m\n",
      "\u001b[1;32mD:\\Anaconda3\\lib\\site-packages\\scipy\\optimize\\_linprog.py\u001b[0m in \u001b[0;36mlinprog\u001b[1;34m(c, A_ub, b_ub, A_eq, b_eq, bounds, method, callback, options, x0)\u001b[0m\n\u001b[0;32m    642\u001b[0m             x, status, message, iteration = _linprog_ip(\n\u001b[0;32m    643\u001b[0m                 \u001b[0mc\u001b[0m\u001b[1;33m,\u001b[0m \u001b[0mc0\u001b[0m\u001b[1;33m=\u001b[0m\u001b[0mc0\u001b[0m\u001b[1;33m,\u001b[0m \u001b[0mA\u001b[0m\u001b[1;33m=\u001b[0m\u001b[0mA\u001b[0m\u001b[1;33m,\u001b[0m \u001b[0mb\u001b[0m\u001b[1;33m=\u001b[0m\u001b[0mb\u001b[0m\u001b[1;33m,\u001b[0m \u001b[0mcallback\u001b[0m\u001b[1;33m=\u001b[0m\u001b[0mcallback\u001b[0m\u001b[1;33m,\u001b[0m\u001b[1;33m\u001b[0m\u001b[1;33m\u001b[0m\u001b[0m\n\u001b[1;32m--> 644\u001b[1;33m                 postsolve_args=postsolve_args, **solver_options)\n\u001b[0m\u001b[0;32m    645\u001b[0m         \u001b[1;32melif\u001b[0m \u001b[0mmeth\u001b[0m \u001b[1;33m==\u001b[0m \u001b[1;34m'revised simplex'\u001b[0m\u001b[1;33m:\u001b[0m\u001b[1;33m\u001b[0m\u001b[1;33m\u001b[0m\u001b[0m\n\u001b[0;32m    646\u001b[0m             x, status, message, iteration = _linprog_rs(\n",
      "\u001b[1;32mD:\\Anaconda3\\lib\\site-packages\\scipy\\optimize\\_linprog_ip.py\u001b[0m in \u001b[0;36m_linprog_ip\u001b[1;34m(c, c0, A, b, callback, postsolve_args, maxiter, tol, disp, alpha0, beta, sparse, lstsq, sym_pos, cholesky, pc, ip, permc_spec, **unknown_options)\u001b[0m\n\u001b[0;32m   1121\u001b[0m                                             \u001b[0mlstsq\u001b[0m\u001b[1;33m,\u001b[0m \u001b[0msym_pos\u001b[0m\u001b[1;33m,\u001b[0m \u001b[0mcholesky\u001b[0m\u001b[1;33m,\u001b[0m\u001b[1;33m\u001b[0m\u001b[1;33m\u001b[0m\u001b[0m\n\u001b[0;32m   1122\u001b[0m                                             \u001b[0mpc\u001b[0m\u001b[1;33m,\u001b[0m \u001b[0mip\u001b[0m\u001b[1;33m,\u001b[0m \u001b[0mpermc_spec\u001b[0m\u001b[1;33m,\u001b[0m \u001b[0mcallback\u001b[0m\u001b[1;33m,\u001b[0m\u001b[1;33m\u001b[0m\u001b[1;33m\u001b[0m\u001b[0m\n\u001b[1;32m-> 1123\u001b[1;33m                                             postsolve_args)\n\u001b[0m\u001b[0;32m   1124\u001b[0m \u001b[1;33m\u001b[0m\u001b[0m\n\u001b[0;32m   1125\u001b[0m     \u001b[1;32mreturn\u001b[0m \u001b[0mx\u001b[0m\u001b[1;33m,\u001b[0m \u001b[0mstatus\u001b[0m\u001b[1;33m,\u001b[0m \u001b[0mmessage\u001b[0m\u001b[1;33m,\u001b[0m \u001b[0miteration\u001b[0m\u001b[1;33m\u001b[0m\u001b[1;33m\u001b[0m\u001b[0m\n",
      "\u001b[1;32mD:\\Anaconda3\\lib\\site-packages\\scipy\\optimize\\_linprog_ip.py\u001b[0m in \u001b[0;36m_ip_hsd\u001b[1;34m(A, b, c, c0, alpha0, beta, maxiter, disp, tol, sparse, lstsq, sym_pos, cholesky, pc, ip, permc_spec, callback, postsolve_args)\u001b[0m\n\u001b[0;32m    750\u001b[0m             d_x, d_y, d_z, d_tau, d_kappa = _get_delta(\n\u001b[0;32m    751\u001b[0m                 \u001b[0mA\u001b[0m\u001b[1;33m,\u001b[0m \u001b[0mb\u001b[0m\u001b[1;33m,\u001b[0m \u001b[0mc\u001b[0m\u001b[1;33m,\u001b[0m \u001b[0mx\u001b[0m\u001b[1;33m,\u001b[0m \u001b[0my\u001b[0m\u001b[1;33m,\u001b[0m \u001b[0mz\u001b[0m\u001b[1;33m,\u001b[0m \u001b[0mtau\u001b[0m\u001b[1;33m,\u001b[0m \u001b[0mkappa\u001b[0m\u001b[1;33m,\u001b[0m \u001b[0mgamma\u001b[0m\u001b[1;33m,\u001b[0m \u001b[0meta\u001b[0m\u001b[1;33m,\u001b[0m\u001b[1;33m\u001b[0m\u001b[1;33m\u001b[0m\u001b[0m\n\u001b[1;32m--> 752\u001b[1;33m                 sparse, lstsq, sym_pos, cholesky, pc, ip, permc_spec)\n\u001b[0m\u001b[0;32m    753\u001b[0m \u001b[1;33m\u001b[0m\u001b[0m\n\u001b[0;32m    754\u001b[0m             \u001b[1;32mif\u001b[0m \u001b[0mip\u001b[0m\u001b[1;33m:\u001b[0m  \u001b[1;31m# initial point\u001b[0m\u001b[1;33m\u001b[0m\u001b[1;33m\u001b[0m\u001b[0m\n",
      "\u001b[1;32mD:\\Anaconda3\\lib\\site-packages\\scipy\\optimize\\_linprog_ip.py\u001b[0m in \u001b[0;36m_get_delta\u001b[1;34m(A, b, c, x, y, z, tau, kappa, gamma, eta, sparse, lstsq, sym_pos, cholesky, pc, ip, permc_spec)\u001b[0m\n\u001b[0;32m    264\u001b[0m                 \u001b[1;31m# [4] Equation 8.29\u001b[0m\u001b[1;33m\u001b[0m\u001b[1;33m\u001b[0m\u001b[1;33m\u001b[0m\u001b[0m\n\u001b[0;32m    265\u001b[0m                 u, v = _sym_solve(Dinv, A, rhatd -\n\u001b[1;32m--> 266\u001b[1;33m                                   (1 / x) * rhatxs, rhatp, solve)\n\u001b[0m\u001b[0;32m    267\u001b[0m                 \u001b[1;32mif\u001b[0m \u001b[0mnp\u001b[0m\u001b[1;33m.\u001b[0m\u001b[0many\u001b[0m\u001b[1;33m(\u001b[0m\u001b[0mnp\u001b[0m\u001b[1;33m.\u001b[0m\u001b[0misnan\u001b[0m\u001b[1;33m(\u001b[0m\u001b[0mp\u001b[0m\u001b[1;33m)\u001b[0m\u001b[1;33m)\u001b[0m \u001b[1;32mor\u001b[0m \u001b[0mnp\u001b[0m\u001b[1;33m.\u001b[0m\u001b[0many\u001b[0m\u001b[1;33m(\u001b[0m\u001b[0mnp\u001b[0m\u001b[1;33m.\u001b[0m\u001b[0misnan\u001b[0m\u001b[1;33m(\u001b[0m\u001b[0mq\u001b[0m\u001b[1;33m)\u001b[0m\u001b[1;33m)\u001b[0m\u001b[1;33m:\u001b[0m\u001b[1;33m\u001b[0m\u001b[1;33m\u001b[0m\u001b[0m\n\u001b[0;32m    268\u001b[0m                     \u001b[1;32mraise\u001b[0m \u001b[0mLinAlgError\u001b[0m\u001b[1;33m\u001b[0m\u001b[1;33m\u001b[0m\u001b[0m\n",
      "\u001b[1;32mD:\\Anaconda3\\lib\\site-packages\\scipy\\optimize\\_linprog_ip.py\u001b[0m in \u001b[0;36m_sym_solve\u001b[1;34m(Dinv, A, r1, r2, solve)\u001b[0m\n\u001b[0;32m    342\u001b[0m     \u001b[1;31m# [4] 8.31\u001b[0m\u001b[1;33m\u001b[0m\u001b[1;33m\u001b[0m\u001b[1;33m\u001b[0m\u001b[0m\n\u001b[0;32m    343\u001b[0m     \u001b[0mr\u001b[0m \u001b[1;33m=\u001b[0m \u001b[0mr2\u001b[0m \u001b[1;33m+\u001b[0m \u001b[0mA\u001b[0m\u001b[1;33m.\u001b[0m\u001b[0mdot\u001b[0m\u001b[1;33m(\u001b[0m\u001b[0mDinv\u001b[0m \u001b[1;33m*\u001b[0m \u001b[0mr1\u001b[0m\u001b[1;33m)\u001b[0m\u001b[1;33m\u001b[0m\u001b[1;33m\u001b[0m\u001b[0m\n\u001b[1;32m--> 344\u001b[1;33m     \u001b[0mv\u001b[0m \u001b[1;33m=\u001b[0m \u001b[0msolve\u001b[0m\u001b[1;33m(\u001b[0m\u001b[0mr\u001b[0m\u001b[1;33m)\u001b[0m\u001b[1;33m\u001b[0m\u001b[1;33m\u001b[0m\u001b[0m\n\u001b[0m\u001b[0;32m    345\u001b[0m     \u001b[1;31m# [4] 8.32\u001b[0m\u001b[1;33m\u001b[0m\u001b[1;33m\u001b[0m\u001b[1;33m\u001b[0m\u001b[0m\n\u001b[0;32m    346\u001b[0m     \u001b[0mu\u001b[0m \u001b[1;33m=\u001b[0m \u001b[0mDinv\u001b[0m \u001b[1;33m*\u001b[0m \u001b[1;33m(\u001b[0m\u001b[0mA\u001b[0m\u001b[1;33m.\u001b[0m\u001b[0mT\u001b[0m\u001b[1;33m.\u001b[0m\u001b[0mdot\u001b[0m\u001b[1;33m(\u001b[0m\u001b[0mv\u001b[0m\u001b[1;33m)\u001b[0m \u001b[1;33m-\u001b[0m \u001b[0mr1\u001b[0m\u001b[1;33m)\u001b[0m\u001b[1;33m\u001b[0m\u001b[1;33m\u001b[0m\u001b[0m\n",
      "\u001b[1;32mD:\\Anaconda3\\lib\\site-packages\\scipy\\optimize\\_linprog_ip.py\u001b[0m in \u001b[0;36msolve\u001b[1;34m(r)\u001b[0m\n\u001b[0;32m    105\u001b[0m             \u001b[1;32mif\u001b[0m \u001b[0mlstsq\u001b[0m\u001b[1;33m:\u001b[0m  \u001b[1;31m# sometimes necessary as solution is approached\u001b[0m\u001b[1;33m\u001b[0m\u001b[1;33m\u001b[0m\u001b[0m\n\u001b[0;32m    106\u001b[0m                 \u001b[1;32mdef\u001b[0m \u001b[0msolve\u001b[0m\u001b[1;33m(\u001b[0m\u001b[0mr\u001b[0m\u001b[1;33m)\u001b[0m\u001b[1;33m:\u001b[0m\u001b[1;33m\u001b[0m\u001b[1;33m\u001b[0m\u001b[0m\n\u001b[1;32m--> 107\u001b[1;33m                     \u001b[1;32mreturn\u001b[0m \u001b[0msp\u001b[0m\u001b[1;33m.\u001b[0m\u001b[0mlinalg\u001b[0m\u001b[1;33m.\u001b[0m\u001b[0mlstsq\u001b[0m\u001b[1;33m(\u001b[0m\u001b[0mM\u001b[0m\u001b[1;33m,\u001b[0m \u001b[0mr\u001b[0m\u001b[1;33m)\u001b[0m\u001b[1;33m[\u001b[0m\u001b[1;36m0\u001b[0m\u001b[1;33m]\u001b[0m\u001b[1;33m\u001b[0m\u001b[1;33m\u001b[0m\u001b[0m\n\u001b[0m\u001b[0;32m    108\u001b[0m             \u001b[1;32melif\u001b[0m \u001b[0mcholesky\u001b[0m\u001b[1;33m:\u001b[0m\u001b[1;33m\u001b[0m\u001b[1;33m\u001b[0m\u001b[0m\n\u001b[0;32m    109\u001b[0m                 \u001b[0mL\u001b[0m \u001b[1;33m=\u001b[0m \u001b[0msp\u001b[0m\u001b[1;33m.\u001b[0m\u001b[0mlinalg\u001b[0m\u001b[1;33m.\u001b[0m\u001b[0mcho_factor\u001b[0m\u001b[1;33m(\u001b[0m\u001b[0mM\u001b[0m\u001b[1;33m)\u001b[0m\u001b[1;33m\u001b[0m\u001b[1;33m\u001b[0m\u001b[0m\n",
      "\u001b[1;32mD:\\Anaconda3\\lib\\site-packages\\scipy\\linalg\\basic.py\u001b[0m in \u001b[0;36mlstsq\u001b[1;34m(a, b, cond, overwrite_a, overwrite_b, check_finite, lapack_driver)\u001b[0m\n\u001b[0;32m   1203\u001b[0m                 \u001b[0mlwork\u001b[0m\u001b[1;33m,\u001b[0m \u001b[0miwork\u001b[0m \u001b[1;33m=\u001b[0m \u001b[0m_compute_lwork\u001b[0m\u001b[1;33m(\u001b[0m\u001b[0mlapack_lwork\u001b[0m\u001b[1;33m,\u001b[0m \u001b[0mm\u001b[0m\u001b[1;33m,\u001b[0m \u001b[0mn\u001b[0m\u001b[1;33m,\u001b[0m \u001b[0mnrhs\u001b[0m\u001b[1;33m,\u001b[0m \u001b[0mcond\u001b[0m\u001b[1;33m)\u001b[0m\u001b[1;33m\u001b[0m\u001b[1;33m\u001b[0m\u001b[0m\n\u001b[0;32m   1204\u001b[0m                 x, s, rank, info = lapack_func(a1, b1, lwork,\n\u001b[1;32m-> 1205\u001b[1;33m                                                iwork, cond, False, False)\n\u001b[0m\u001b[0;32m   1206\u001b[0m             \u001b[1;32melse\u001b[0m\u001b[1;33m:\u001b[0m  \u001b[1;31m# complex data\u001b[0m\u001b[1;33m\u001b[0m\u001b[1;33m\u001b[0m\u001b[0m\n\u001b[0;32m   1207\u001b[0m                 lwork, rwork, iwork = _compute_lwork(lapack_lwork, m, n,\n",
      "\u001b[1;31mKeyboardInterrupt\u001b[0m: "
     ]
    }
   ],
   "source": [
    "param_grid = {\n",
    "    'alpha': [1e-4, 1e-3, 1e-2, 1e-1, 1, 10],\n",
    "    'max_iter': [1000, 10000, 100000]\n",
    "}\n",
    "\n",
    "# Define the model\n",
    "model = QuantileRegressor()\n",
    "model.fit(X_train, y_train)\n",
    "\n",
    "# y_pred\n",
    "# # Create a GridSearchCV object\n",
    "# clf = GridSearchCV(model, param_grid, cv=3)\n",
    "\n",
    "# # Train the model\n",
    "# clf.fit(X_train, y_train)\n",
    "\n",
    "# # Print the best hyperparameters found by GridSearchCV\n",
    "# print(clf.best_params_)\n",
    "\n",
    "y_pred = model.predict(X_test)\n",
    "y_pred_train = model.predict(X_train)\n",
    "\n",
    "# Calculate the mean squared error\n",
    "\n",
    "print(\"Root mean squared error: %.9f\" % mean_squared_error(y_test, y_pred, squared=False))\n",
    "print(\"Root mean squared error train: %.9f\" % mean_squared_error(y_train, y_pred_train, squared=False))\n",
    "\n",
    "print(\"Coefficient of determination: %.4f\" % r2_score(y_test, y_pred))\n",
    "print(\"Coefficient of determination train: %.4f\" % r2_score(y_train, y_pred_train))"
   ]
  },
  {
   "cell_type": "code",
   "execution_count": null,
   "metadata": {},
   "outputs": [],
   "source": []
  }
 ],
 "metadata": {
  "kernelspec": {
   "display_name": "Python 3",
   "language": "python",
   "name": "python3"
  },
  "language_info": {
   "codemirror_mode": {
    "name": "ipython",
    "version": 3
   },
   "file_extension": ".py",
   "mimetype": "text/x-python",
   "name": "python",
   "nbconvert_exporter": "python",
   "pygments_lexer": "ipython3",
   "version": "3.7.6"
  }
 },
 "nbformat": 4,
 "nbformat_minor": 5
}
