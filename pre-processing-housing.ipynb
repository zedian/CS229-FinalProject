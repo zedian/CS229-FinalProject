{
 "cells": [
  {
   "cell_type": "code",
   "execution_count": null,
   "metadata": {},
   "outputs": [],
   "source": [
    "import numpy as np\n",
    "import pandas as pd\n",
    "import matplotlib.pyplot as plt\n",
    "import seaborn as sns\n"
   ]
  },
  {
   "cell_type": "code",
   "execution_count": null,
   "metadata": {},
   "outputs": [],
   "source": [
    "covid = pd.read_csv('us-counties-2020.csv')\n",
    "covid[(covid['county'] == 'Unknown') & (covid['date'] == '2020-12-31')]\n",
    "covid = covid[covid['county'] != 'Unknown']\n",
    "covid['county_state'] = covid['county'] + \", \" + covid['state']\n",
    "covid\n",
    "covid['county'].describe()\n",
    "covid['state'].describe()\n"
   ]
  },
  {
   "cell_type": "code",
   "execution_count": null,
   "metadata": {},
   "outputs": [],
   "source": [
    "washington_data = covid[covid['state']=='Washington']\n",
    "plt.plot(washington_data['date'],washington_data['deaths']);\n",
    "def extract_time_range_data(start_date,end_date):\n",
    "    diff_deaths = covid[covid['date'] == end_date].set_index('county_state')['deaths'] - covid[covid['date'] == start_date].set_index('county_state')['deaths']\n",
    "    diff_cases = covid[covid['date'] == end_date].set_index('county_state')['cases'] - covid[covid['date'] == start_date].set_index('county_state')['cases']\n",
    "    df = covid[covid['date'] == end_date].set_index('county_state')\n",
    "    df['new_cases'] = diff_cases\n",
    "    df['new_deaths'] = diff_deaths\n",
    "    df.drop('cases',inplace=True,axis=1)\n",
    "    df.drop('deaths',inplace=True,axis=1)\n",
    "    df.drop('date',inplace=True,axis=1)\n",
    "    return df\n"
   ]
  },
  {
   "cell_type": "code",
   "execution_count": null,
   "metadata": {},
   "outputs": [],
   "source": [
    "covid_tf = extract_time_range_data('2020-08-01','2020-12-31')\n",
    "covid_tf = covid_tf.sort_values('new_cases')\n",
    "covid_tf = covid_tf[~covid_tf['new_cases'].isna()]\n",
    "covid_tf['mortality'] = covid_tf['new_deaths']/covid_tf['new_cases']\n",
    "covid_tf.loc[covid_tf['new_cases']==0,'mortality'] = 0\n",
    "covid_tf.loc[covid_tf['mortality']>=1,'mortality'] = 1\n",
    "covid_tf\n"
   ]
  },
  {
   "cell_type": "code",
   "execution_count": null,
   "metadata": {},
   "outputs": [],
   "source": [
    "plt.hist(covid_tf['mortality'])\n",
    "demo = pd.read_csv('New Project 2_Ranking_2022-10-27_17-24-28.csv')\n",
    "demo.info(verbose=True)\n",
    "demo_clean = demo.drop(demo.columns[[1,2,3,4,5,6,7,21,22]],axis=1)\n",
    "# drop population-related data & Age over 65 and more & income over 100k\n",
    "demo_clean.info(verbose=True)\n"
   ]
  },
  {
   "cell_type": "code",
   "execution_count": null,
   "metadata": {},
   "outputs": [],
   "source": [
    "demo_clean = demo_clean.drop(demo_clean.columns[[24,37]],axis=1)\n",
    "demo_clean.info(verbose=True)\n",
    "demo_clean.iloc[:,24]\n",
    "demo_clean.iloc[:,2:23] = demo_clean.iloc[:,2:23].div(demo_clean.iloc[:,1],axis=0)\n",
    "demo_clean.iloc[:,25:36] = demo_clean.iloc[:,25:36].div(demo_clean.iloc[:,24],axis=0)\n",
    "demo_clean.iloc[:,37:] = demo_clean.iloc[:,37:].div(demo_clean.iloc[:,1],axis=0)\n",
    "demo_clean.iloc[:,25:36]"
   ]
  },
  {
   "cell_type": "code",
   "execution_count": null,
   "metadata": {},
   "outputs": [],
   "source": [
    "demo_selected = demo_clean.loc[:,demo_clean.columns.str.contains('# Age')]\n",
    "demo_selected\n",
    "plt.figure(figsize=(20,20))\n",
    "sns.heatmap(np.abs(demo_selected.corr()),annot=True, fmt=\".2f\",cmap='Blues')"
   ]
  },
  {
   "cell_type": "code",
   "execution_count": null,
   "metadata": {},
   "outputs": [],
   "source": [
    "demo_selected_income = demo_clean.loc[:,demo_clean.columns.str.contains('Income')]\n",
    "demo_selected_income"
   ]
  },
  {
   "cell_type": "code",
   "execution_count": null,
   "metadata": {},
   "outputs": [],
   "source": [
    "def plot_heatmap(input):\n",
    "    plt.figure(figsize=(20,20))\n",
    "    sns.heatmap(np.abs(input.corr()),annot=True, fmt=\".2f\",cmap='Blues')"
   ]
  },
  {
   "cell_type": "code",
   "execution_count": null,
   "metadata": {},
   "outputs": [],
   "source": [
    "plot_heatmap(demo_selected_income)\n",
    "demo_selected_lan = demo_clean.iloc[:,69:82]\n",
    "plot_heatmap(demo_selected_lan)\n",
    "demo_selected_ins = demo_clean.iloc[:,83:110]\n",
    "plot_heatmap(demo_selected_ins)\n",
    "demo_selected_ins\n",
    "demo_selected_veh = demo_clean.iloc[:,115:121]\n",
    "plot_heatmap(demo_selected_veh)\n",
    "demo_selected_occ = demo_clean.iloc[:,161:178]\n",
    "plot_heatmap(demo_selected_occ)"
   ]
  }
 ],
 "metadata": {
  "kernelspec": {
   "display_name": "Python 3.8.6 64-bit",
   "language": "python",
   "name": "python3"
  },
  "language_info": {
   "name": "python",
   "version": "3.8.6"
  },
  "orig_nbformat": 4,
  "vscode": {
   "interpreter": {
    "hash": "aee8b7b246df8f9039afb4144a1f6fd8d2ca17a180786b69acc140d282b71a49"
   }
  }
 },
 "nbformat": 4,
 "nbformat_minor": 2
}
