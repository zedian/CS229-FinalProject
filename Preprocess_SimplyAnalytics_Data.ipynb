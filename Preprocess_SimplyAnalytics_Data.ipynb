{
 "cells": [
  {
   "cell_type": "code",
   "execution_count": 1,
   "metadata": {},
   "outputs": [],
   "source": [
    "import numpy as np\n",
    "import pandas as pd\n",
    "from sklearn.model_selection import train_test_split\n",
    "from sklearn.linear_model import LinearRegression\n",
    "from sklearn.metrics import mean_squared_error, r2_score"
   ]
  },
  {
   "cell_type": "code",
   "execution_count": 2,
   "metadata": {},
   "outputs": [],
   "source": [
    "df = pd.read_csv(\"New Project 2_Ranking_2022-10-27_17-24-28.csv\")"
   ]
  },
  {
   "cell_type": "code",
   "execution_count": 3,
   "metadata": {},
   "outputs": [],
   "source": [
    "df = df.set_index(\"Name\")\n",
    "labels = [col for col in df.columns if \"covid\" in col.lower()]\n",
    "y = df[labels]\n",
    "y_lab = y[labels[11]]\n",
    "df = df[df[labels[11]].isna() == False]\n",
    "y_lab = y_lab[y_lab.isna() == False]\n",
    "x = df.drop(labels, axis=1)\n",
    "bad_col = [c for c in x.columns if x[c].isna().sum() > 10]\n",
    "x = x.drop(bad_col, axis=1)"
   ]
  },
  {
   "cell_type": "code",
   "execution_count": 4,
   "metadata": {},
   "outputs": [],
   "source": [
    "for c in x.columns:\n",
    "    x[c].fillna(value=x[c].mean(), inplace=True)"
   ]
  },
  {
   "cell_type": "code",
   "execution_count": 5,
   "metadata": {},
   "outputs": [],
   "source": [
    "X_train, X_test, y_train, y_test = train_test_split(x, y_lab, test_size=0.15, random_state=42)"
   ]
  },
  {
   "cell_type": "code",
   "execution_count": 6,
   "metadata": {},
   "outputs": [],
   "source": [
    "for c in X_train.columns:\n",
    "    if X_train[c].isna().sum()> 1:\n",
    "        print(c)\n",
    "X_train.isna().sum().sum()\n",
    "lm = LinearRegression().fit(X_train, y_train)"
   ]
  },
  {
   "cell_type": "code",
   "execution_count": 7,
   "metadata": {},
   "outputs": [],
   "source": [
    "y_pred = lm.predict(X_test)"
   ]
  },
  {
   "cell_type": "code",
   "execution_count": 8,
   "metadata": {},
   "outputs": [
    {
     "name": "stdout",
     "output_type": "stream",
     "text": [
      "Coefficients: \n",
      " [-1.42730755e-04  7.78062439e-02  8.41896417e-02 -8.37193773e-02\n",
      "  8.28906798e-02  7.65071775e-02  7.69774484e-02  1.60696823e-01\n",
      "  1.28421239e-02 -7.70061249e-02 -6.06332544e-02 -2.46328506e-02\n",
      " -4.76790646e-02 -4.73487996e-02 -4.80202587e-02 -6.51231722e-02\n",
      " -5.12996657e-02 -2.39961371e-02 -1.01594931e-02 -1.14193000e-02\n",
      " -3.69822879e-02 -1.54034950e-02 -7.13747366e-01 -7.00816825e-01\n",
      "  1.60696824e-01  1.58605813e-01  1.59030183e-01  1.61116935e-01\n",
      "  1.54486515e-01  1.67713415e-01  1.59513777e-01  1.54350440e-01\n",
      " -1.13871300e-02 -1.22580015e-01 -6.86567787e-02 -9.48174302e-02\n",
      " -8.34590768e-02 -8.75510769e-02 -8.79144668e-02 -8.94597388e-02\n",
      " -1.04446356e-01 -9.61209415e-02 -1.52250978e-02 -1.97348165e-02\n",
      " -1.70522032e-02 -6.94598678e-02 -1.74477504e-02 -2.34931091e-01\n",
      "  1.63637453e-01  6.47531542e-02  8.63730692e-02  1.06647608e-01\n",
      "  7.82680207e-02  6.53956113e-02  6.62191169e-02  6.49408969e-02\n",
      "  2.27641977e-01 -1.25202807e+00  5.21986808e-01  1.77682137e+00\n",
      "  1.22473040e-01 -1.04074443e+00  7.33805868e-01  1.26179539e+00\n",
      "  5.31298886e-03 -2.50196868e-01  2.58122713e-01  2.30837399e-01\n",
      "  1.86504119e-01  2.73227969e-01  2.60532219e-01  2.33020039e-01\n",
      "  2.48798977e-01  2.42562962e-01  2.74420369e-01  2.52620501e-01\n",
      "  2.46674850e-01  2.79108613e-01  2.77251640e-01 -4.64811505e-01\n",
      "  5.28588825e-01  5.27131377e-01  5.25170761e-01  5.25115550e-01\n",
      "  5.24065090e-01  5.33514144e-01  5.32030535e-01  5.31693479e-01\n",
      "  5.23964678e-01  5.22771970e-01  5.33450574e-01  5.43735866e-01\n",
      "  5.30175814e-01 -1.73236589e-02  3.95688633e-01 -3.74139528e-01\n",
      " -3.63448875e-01 -6.91842584e-01  6.93561388e-01  6.94136291e-01\n",
      "  1.79979512e-01 -1.76960359e-01  1.77824783e-01  1.93781986e-03\n",
      " -3.57796786e-05 -1.20584106e-01 -7.77759417e-03  1.32368879e-01\n",
      "  1.30104846e-01  9.04105971e-01 -9.02258693e-01 -9.11580402e-01\n",
      "  4.51918785e-02 -6.88336882e-02 -6.62552925e-02  8.84262709e-01\n",
      " -8.87496102e-01 -9.38411706e-01  3.46150616e-01 -3.42309508e-01\n",
      " -3.31695574e-01 -1.30233953e-04  1.36035629e-01  1.74556040e-02\n",
      " -3.15915970e-01 -1.22580015e-01  3.34645698e-01  3.37743333e-01\n",
      "  3.33101786e-01  3.34632117e-01  3.32099324e-01  3.08204037e-01\n",
      " -9.19261312e-03 -1.24486103e-02  2.75212475e-01  2.76156847e-01\n",
      "  2.76912249e-01  3.01720611e-01  1.60696824e-01 -4.51857832e-01\n",
      " -5.54136111e-01  1.02698041e-01  1.04410576e-01  1.01520060e-01\n",
      "  1.03532763e-01 -1.05026750e+00  1.25007129e+00  1.14963850e+00\n",
      "  1.16277641e+00  1.14751544e+00  1.15037379e+00  1.15514123e+00\n",
      "  1.14819847e+00 -2.27255709e+00  2.43421250e+00  2.37378304e+00\n",
      "  2.40182089e+00  2.38610063e+00  2.39713982e+00  2.24376419e+00\n",
      "  2.34417657e+00  2.41320217e+00  2.33000538e+00  2.38521716e+00\n",
      "  2.80965004e+00 -2.71276714e+00 -2.72034848e+00 -2.65242642e+00\n",
      " -2.71062637e+00 -9.19261312e-03 -1.24486103e-02  1.22473040e-01\n",
      " -5.00262776e-02 -4.59708582e-02 -4.32619716e-02  5.19325104e-02\n",
      " -5.04983537e-02  4.39420381e-02  3.89991049e-02  4.38307135e-02\n",
      "  4.85894362e-02  1.66559154e-02  1.48899239e-02  3.23606494e-02\n",
      "  4.15604146e-02  4.90182574e-02  5.05286877e-02  4.55465886e-02\n",
      "  4.32110421e-02  1.22473040e-01 -1.35537528e+00 -1.44454278e+00\n",
      " -1.41368762e+00 -1.43894518e+00 -1.44152763e+00 -4.40346165e-07\n",
      " -8.20547796e-03 -3.85439614e-01  1.54079888e+00 -2.24920720e+00\n",
      "  1.15129637e+00  1.12559948e+00 -1.17180581e+00  1.32041981e+00\n",
      "  4.09410828e-01 -1.31599199e+00 -9.42263478e-01 -1.38006841e+00]\n",
      "Mean squared error: 13767.12\n",
      "Coefficient of determination: 0.92\n"
     ]
    },
    {
     "data": {
      "image/png": "[encoded data removed]",
      "text/plain": [
       "<Figure size 432x288 with 1 Axes>"
      ]
     },
     "metadata": {
      "needs_background": "light"
     },
     "output_type": "display_data"
    }
   ],
   "source": [
    "# The coefficients\n",
    "print(\"Coefficients: \\n\", lm.coef_)\n",
    "# The mean squared error\n",
    "print(\"Mean squared error: %.2f\" % mean_squared_error(y_test, y_pred))\n",
    "# The coefficient of determination: 1 is perfect prediction\n",
    "print(\"Coefficient of determination: %.2f\" % r2_score(y_test, y_pred))\n",
    "ax = y_lab.plot.hist(bins=100, alpha=0.5)\n"
   ]
  },
  {
   "cell_type": "markdown",
   "metadata": {},
   "source": []
  },
  {
   "cell_type": "code",
   "execution_count": null,
   "metadata": {},
   "outputs": [],
   "source": []
  }
 ],
 "metadata": {
  "kernelspec": {
   "display_name": "Python 3.8.6 64-bit",
   "language": "python",
   "name": "python3"
  },
  "language_info": {
   "codemirror_mode": {
    "name": "ipython",
    "version": 3
   },
   "file_extension": ".py",
   "mimetype": "text/x-python",
   "name": "python",
   "nbconvert_exporter": "python",
   "pygments_lexer": "ipython3",
   "version": "3.8.6"
  },
  "orig_nbformat": 4,
  "vscode": {
   "interpreter": {
    "hash": "aee8b7b246df8f9039afb4144a1f6fd8d2ca17a180786b69acc140d282b71a49"
   }
  }
 },
 "nbformat": 4,
 "nbformat_minor": 2
}
